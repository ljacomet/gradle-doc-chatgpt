{
 "cells": [
  {
   "attachments": {},
   "cell_type": "markdown",
   "metadata": {},
   "source": [
    "## Install requirements\n",
    "\n",
    "This first section installs all the dependencies we need"
   ]
  },
  {
   "cell_type": "code",
   "execution_count": 29,
   "metadata": {},
   "outputs": [
    {
     "name": "stdout",
     "output_type": "stream",
     "text": [
      "Requirement already satisfied: tiktoken==0.3.3 in /opt/homebrew/Caskroom/miniconda/base/envs/jupyter/lib/python3.9/site-packages (0.3.3)\n",
      "Requirement already satisfied: regex>=2022.1.18 in /opt/homebrew/Caskroom/miniconda/base/envs/jupyter/lib/python3.9/site-packages (from tiktoken==0.3.3) (2023.3.23)\n",
      "Requirement already satisfied: requests>=2.26.0 in /opt/homebrew/Caskroom/miniconda/base/envs/jupyter/lib/python3.9/site-packages (from tiktoken==0.3.3) (2.29.0)\n",
      "Requirement already satisfied: charset-normalizer<4,>=2 in /opt/homebrew/Caskroom/miniconda/base/envs/jupyter/lib/python3.9/site-packages (from requests>=2.26.0->tiktoken==0.3.3) (3.1.0)\n",
      "Requirement already satisfied: idna<4,>=2.5 in /opt/homebrew/Caskroom/miniconda/base/envs/jupyter/lib/python3.9/site-packages (from requests>=2.26.0->tiktoken==0.3.3) (3.4)\n",
      "Requirement already satisfied: urllib3<1.27,>=1.21.1 in /opt/homebrew/Caskroom/miniconda/base/envs/jupyter/lib/python3.9/site-packages (from requests>=2.26.0->tiktoken==0.3.3) (1.26.15)\n",
      "Requirement already satisfied: certifi>=2017.4.17 in /opt/homebrew/Caskroom/miniconda/base/envs/jupyter/lib/python3.9/site-packages (from requests>=2.26.0->tiktoken==0.3.3) (2022.12.7)\n",
      "Note: you may need to restart the kernel to use updated packages.\n",
      "Requirement already satisfied: openai==0.27.2 in /opt/homebrew/Caskroom/miniconda/base/envs/jupyter/lib/python3.9/site-packages (0.27.2)\n",
      "Requirement already satisfied: requests>=2.20 in /opt/homebrew/Caskroom/miniconda/base/envs/jupyter/lib/python3.9/site-packages (from openai==0.27.2) (2.29.0)\n",
      "Requirement already satisfied: tqdm in /opt/homebrew/Caskroom/miniconda/base/envs/jupyter/lib/python3.9/site-packages (from openai==0.27.2) (4.65.0)\n",
      "Requirement already satisfied: aiohttp in /opt/homebrew/Caskroom/miniconda/base/envs/jupyter/lib/python3.9/site-packages (from openai==0.27.2) (3.8.4)\n",
      "Requirement already satisfied: charset-normalizer<4,>=2 in /opt/homebrew/Caskroom/miniconda/base/envs/jupyter/lib/python3.9/site-packages (from requests>=2.20->openai==0.27.2) (3.1.0)\n",
      "Requirement already satisfied: idna<4,>=2.5 in /opt/homebrew/Caskroom/miniconda/base/envs/jupyter/lib/python3.9/site-packages (from requests>=2.20->openai==0.27.2) (3.4)\n",
      "Requirement already satisfied: urllib3<1.27,>=1.21.1 in /opt/homebrew/Caskroom/miniconda/base/envs/jupyter/lib/python3.9/site-packages (from requests>=2.20->openai==0.27.2) (1.26.15)\n",
      "Requirement already satisfied: certifi>=2017.4.17 in /opt/homebrew/Caskroom/miniconda/base/envs/jupyter/lib/python3.9/site-packages (from requests>=2.20->openai==0.27.2) (2022.12.7)\n",
      "Requirement already satisfied: attrs>=17.3.0 in /opt/homebrew/Caskroom/miniconda/base/envs/jupyter/lib/python3.9/site-packages (from aiohttp->openai==0.27.2) (23.1.0)\n",
      "Requirement already satisfied: multidict<7.0,>=4.5 in /opt/homebrew/Caskroom/miniconda/base/envs/jupyter/lib/python3.9/site-packages (from aiohttp->openai==0.27.2) (6.0.4)\n",
      "Requirement already satisfied: async-timeout<5.0,>=4.0.0a3 in /opt/homebrew/Caskroom/miniconda/base/envs/jupyter/lib/python3.9/site-packages (from aiohttp->openai==0.27.2) (4.0.2)\n",
      "Requirement already satisfied: yarl<2.0,>=1.0 in /opt/homebrew/Caskroom/miniconda/base/envs/jupyter/lib/python3.9/site-packages (from aiohttp->openai==0.27.2) (1.9.2)\n",
      "Requirement already satisfied: frozenlist>=1.1.1 in /opt/homebrew/Caskroom/miniconda/base/envs/jupyter/lib/python3.9/site-packages (from aiohttp->openai==0.27.2) (1.3.3)\n",
      "Requirement already satisfied: aiosignal>=1.1.2 in /opt/homebrew/Caskroom/miniconda/base/envs/jupyter/lib/python3.9/site-packages (from aiohttp->openai==0.27.2) (1.3.1)\n",
      "Note: you may need to restart the kernel to use updated packages.\n",
      "Requirement already satisfied: langchain==0.0.134 in /opt/homebrew/Caskroom/miniconda/base/envs/jupyter/lib/python3.9/site-packages (0.0.134)\n",
      "Requirement already satisfied: PyYAML>=5.4.1 in /opt/homebrew/Caskroom/miniconda/base/envs/jupyter/lib/python3.9/site-packages (from langchain==0.0.134) (6.0)\n",
      "Requirement already satisfied: SQLAlchemy<2,>=1 in /opt/homebrew/Caskroom/miniconda/base/envs/jupyter/lib/python3.9/site-packages (from langchain==0.0.134) (1.4.47)\n",
      "Requirement already satisfied: aiohttp<4.0.0,>=3.8.3 in /opt/homebrew/Caskroom/miniconda/base/envs/jupyter/lib/python3.9/site-packages (from langchain==0.0.134) (3.8.4)\n",
      "Requirement already satisfied: async-timeout<5.0.0,>=4.0.0 in /opt/homebrew/Caskroom/miniconda/base/envs/jupyter/lib/python3.9/site-packages (from langchain==0.0.134) (4.0.2)\n",
      "Requirement already satisfied: dataclasses-json<0.6.0,>=0.5.7 in /opt/homebrew/Caskroom/miniconda/base/envs/jupyter/lib/python3.9/site-packages (from langchain==0.0.134) (0.5.7)\n",
      "Requirement already satisfied: numpy<2,>=1 in /opt/homebrew/Caskroom/miniconda/base/envs/jupyter/lib/python3.9/site-packages (from langchain==0.0.134) (1.24.3)\n",
      "Requirement already satisfied: openapi-schema-pydantic<2.0,>=1.2 in /opt/homebrew/Caskroom/miniconda/base/envs/jupyter/lib/python3.9/site-packages (from langchain==0.0.134) (1.2.4)\n",
      "Requirement already satisfied: pydantic<2,>=1 in /opt/homebrew/Caskroom/miniconda/base/envs/jupyter/lib/python3.9/site-packages (from langchain==0.0.134) (1.10.7)\n",
      "Requirement already satisfied: requests<3,>=2 in /opt/homebrew/Caskroom/miniconda/base/envs/jupyter/lib/python3.9/site-packages (from langchain==0.0.134) (2.29.0)\n",
      "Requirement already satisfied: tenacity<9.0.0,>=8.1.0 in /opt/homebrew/Caskroom/miniconda/base/envs/jupyter/lib/python3.9/site-packages (from langchain==0.0.134) (8.2.2)\n",
      "Requirement already satisfied: attrs>=17.3.0 in /opt/homebrew/Caskroom/miniconda/base/envs/jupyter/lib/python3.9/site-packages (from aiohttp<4.0.0,>=3.8.3->langchain==0.0.134) (23.1.0)\n",
      "Requirement already satisfied: charset-normalizer<4.0,>=2.0 in /opt/homebrew/Caskroom/miniconda/base/envs/jupyter/lib/python3.9/site-packages (from aiohttp<4.0.0,>=3.8.3->langchain==0.0.134) (3.1.0)\n",
      "Requirement already satisfied: multidict<7.0,>=4.5 in /opt/homebrew/Caskroom/miniconda/base/envs/jupyter/lib/python3.9/site-packages (from aiohttp<4.0.0,>=3.8.3->langchain==0.0.134) (6.0.4)\n",
      "Requirement already satisfied: yarl<2.0,>=1.0 in /opt/homebrew/Caskroom/miniconda/base/envs/jupyter/lib/python3.9/site-packages (from aiohttp<4.0.0,>=3.8.3->langchain==0.0.134) (1.9.2)\n",
      "Requirement already satisfied: frozenlist>=1.1.1 in /opt/homebrew/Caskroom/miniconda/base/envs/jupyter/lib/python3.9/site-packages (from aiohttp<4.0.0,>=3.8.3->langchain==0.0.134) (1.3.3)\n",
      "Requirement already satisfied: aiosignal>=1.1.2 in /opt/homebrew/Caskroom/miniconda/base/envs/jupyter/lib/python3.9/site-packages (from aiohttp<4.0.0,>=3.8.3->langchain==0.0.134) (1.3.1)\n",
      "Requirement already satisfied: marshmallow<4.0.0,>=3.3.0 in /opt/homebrew/Caskroom/miniconda/base/envs/jupyter/lib/python3.9/site-packages (from dataclasses-json<0.6.0,>=0.5.7->langchain==0.0.134) (3.19.0)\n",
      "Requirement already satisfied: marshmallow-enum<2.0.0,>=1.5.1 in /opt/homebrew/Caskroom/miniconda/base/envs/jupyter/lib/python3.9/site-packages (from dataclasses-json<0.6.0,>=0.5.7->langchain==0.0.134) (1.5.1)\n",
      "Requirement already satisfied: typing-inspect>=0.4.0 in /opt/homebrew/Caskroom/miniconda/base/envs/jupyter/lib/python3.9/site-packages (from dataclasses-json<0.6.0,>=0.5.7->langchain==0.0.134) (0.8.0)\n",
      "Requirement already satisfied: typing-extensions>=4.2.0 in /opt/homebrew/Caskroom/miniconda/base/envs/jupyter/lib/python3.9/site-packages (from pydantic<2,>=1->langchain==0.0.134) (4.5.0)\n",
      "Requirement already satisfied: idna<4,>=2.5 in /opt/homebrew/Caskroom/miniconda/base/envs/jupyter/lib/python3.9/site-packages (from requests<3,>=2->langchain==0.0.134) (3.4)\n",
      "Requirement already satisfied: urllib3<1.27,>=1.21.1 in /opt/homebrew/Caskroom/miniconda/base/envs/jupyter/lib/python3.9/site-packages (from requests<3,>=2->langchain==0.0.134) (1.26.15)\n",
      "Requirement already satisfied: certifi>=2017.4.17 in /opt/homebrew/Caskroom/miniconda/base/envs/jupyter/lib/python3.9/site-packages (from requests<3,>=2->langchain==0.0.134) (2022.12.7)\n",
      "Requirement already satisfied: packaging>=17.0 in /opt/homebrew/Caskroom/miniconda/base/envs/jupyter/lib/python3.9/site-packages (from marshmallow<4.0.0,>=3.3.0->dataclasses-json<0.6.0,>=0.5.7->langchain==0.0.134) (23.1)\n",
      "Requirement already satisfied: mypy-extensions>=0.3.0 in /opt/homebrew/Caskroom/miniconda/base/envs/jupyter/lib/python3.9/site-packages (from typing-inspect>=0.4.0->dataclasses-json<0.6.0,>=0.5.7->langchain==0.0.134) (1.0.0)\n",
      "Note: you may need to restart the kernel to use updated packages.\n",
      "Requirement already satisfied: python-dotenv==1.0.0 in /opt/homebrew/Caskroom/miniconda/base/envs/jupyter/lib/python3.9/site-packages (1.0.0)\n",
      "Note: you may need to restart the kernel to use updated packages.\n",
      "Requirement already satisfied: faiss-cpu==1.7.3 in /opt/homebrew/Caskroom/miniconda/base/envs/jupyter/lib/python3.9/site-packages (1.7.3)\n",
      "Note: you may need to restart the kernel to use updated packages.\n"
     ]
    }
   ],
   "source": [
    "# Install required dependencies\n",
    "%pip install tiktoken==0.3.3\n",
    "%pip install openai==0.27.2\n",
    "%pip install langchain==0.0.134\n",
    "%pip install python-dotenv==1.0.0\n",
    "%pip install faiss-cpu==1.7.3\n",
    "\n",
    "# Make sure required folders exist\n",
    "import os\n",
    "folder_paths = ['resources', 'output']\n",
    "\n",
    "for path in folder_paths:\n",
    "    if not os.path.exists(path):\n",
    "        os.mkdir(path)"
   ]
  },
  {
   "attachments": {},
   "cell_type": "markdown",
   "metadata": {},
   "source": [
    "## Import our OpenAI API Key\n",
    "\n",
    "You will need an OpenAI API key for these examples to work.\n",
    "Currently, only paid plans are available.\n",
    "\n",
    "Key is sourced from a `.keys` file located in the project folder and then exposed as an env var.\n",
    "The content of the `.keys` file should be:\n",
    "```\n",
    "OPENAI_API_KEY=<secret_key>\n",
    "```"
   ]
  },
  {
   "cell_type": "code",
   "execution_count": 18,
   "metadata": {},
   "outputs": [],
   "source": [
    "import os\n",
    "from dotenv import dotenv_values\n",
    "\n",
    "api_keys = dotenv_values('.keys')\n",
    "\n",
    "os.environ['OPENAI_API_KEY'] = api_keys['OPENAI_API_KEY']"
   ]
  },
  {
   "attachments": {},
   "cell_type": "markdown",
   "metadata": {},
   "source": [
    "## Load and clean Gradle single page documentation"
   ]
  },
  {
   "cell_type": "code",
   "execution_count": 19,
   "metadata": {},
   "outputs": [],
   "source": [
    "# Load the Gradle single page HTML documentation and clean it up\n",
    "# TODO Duplicate manual clean of removing all header content, css and TOC manually\n",
    "import re\n",
    "\n",
    "# Load a local html file\n",
    "with open('resources/gradle.html', 'r') as f:\n",
    "    text = f.read()\n",
    "\n",
    "# Remove all HTML tags\n",
    "cleaned_gradle = re.sub(r'<[^>]*>', '', text)    \n",
    "\n",
    "# Remove blank lines\n",
    "cleaned_gradle = re.sub(r'^\\s*$', '', cleaned_gradle, flags=re.MULTILINE)\n",
    "\n",
    "# Remove the \\n\\n that are left over\n",
    "cleaned_gradle = cleaned_gradle.replace('\\n\\n', '\\n')\n",
    "\n",
    "# Save the text\n",
    "with open('output/gradle_cleaned.txt', 'w') as f:\n",
    "    f.write(cleaned_gradle)"
   ]
  },
  {
   "attachments": {},
   "cell_type": "markdown",
   "metadata": {},
   "source": [
    "## Split our content in chunks"
   ]
  },
  {
   "cell_type": "code",
   "execution_count": 20,
   "metadata": {},
   "outputs": [
    {
     "data": {
      "text/plain": [
       "954"
      ]
     },
     "execution_count": 20,
     "metadata": {},
     "output_type": "execute_result"
    }
   ],
   "source": [
    "from langchain.text_splitter import RecursiveCharacterTextSplitter\n",
    "\n",
    "text_splitter = RecursiveCharacterTextSplitter(\n",
    "    chunk_size = 2000,\n",
    "    chunk_overlap  = 20,\n",
    "    length_function = len,\n",
    ")\n",
    "\n",
    "texts = text_splitter.create_documents([cleaned_gradle])\n",
    "\n",
    "len(texts)"
   ]
  },
  {
   "attachments": {},
   "cell_type": "markdown",
   "metadata": {},
   "source": [
    "## Embed and store the texts\n",
    "This uses an in-memory vector database: https://python.langchain.com/en/latest/modules/indexes/vectorstores/examples/faiss.html"
   ]
  },
  {
   "cell_type": "code",
   "execution_count": 21,
   "metadata": {},
   "outputs": [],
   "source": [
    "from langchain.embeddings.openai import OpenAIEmbeddings\n",
    "from langchain.vectorstores import FAISS\n",
    "\n",
    "embeddings = OpenAIEmbeddings()\n",
    "\n",
    "# Embed and store the texts\n",
    "vectorstore = FAISS.from_documents(texts, embeddings)"
   ]
  },
  {
   "attachments": {},
   "cell_type": "markdown",
   "metadata": {},
   "source": [
    "## Now wire these with OpenAI\n",
    "Lots of mystery in there for now ..."
   ]
  },
  {
   "cell_type": "code",
   "execution_count": 27,
   "metadata": {},
   "outputs": [
    {
     "data": {
      "text/plain": [
       "' You can use a combination of the require and reject terms. For example:\\nrequire(\"[1.0,2.0)\")\\nreject(\"1.4.3\")'"
      ]
     },
     "execution_count": 27,
     "metadata": {},
     "output_type": "execute_result"
    }
   ],
   "source": [
    "from langchain.llms import OpenAI\n",
    "from langchain.chains.question_answering import load_qa_chain\n",
    "\n",
    "llm = OpenAI()\n",
    "\n",
    "query = \"How do I declare that a dependency should use versions between 1 and 2 excluded, with 1.4.3 blacklisted? And can you add an example?\"\n",
    "\n",
    "search_results = vectorstore.similarity_search(query)\n",
    "\n",
    "chain = load_qa_chain(llm, chain_type=\"stuff\")\n",
    "result = chain.run(input_documents=search_results, question=query)\n",
    "\n",
    "with open('output/prompts.txt', 'a') as f:\n",
    "    f.write('Q: ' + query + '\\n')\n",
    "    f.write('A: ' + result + '\\n')\n",
    "\n",
    "result\n"
   ]
  }
 ],
 "metadata": {
  "kernelspec": {
   "display_name": "jupyter",
   "language": "python",
   "name": "python3"
  },
  "language_info": {
   "codemirror_mode": {
    "name": "ipython",
    "version": 3
   },
   "file_extension": ".py",
   "mimetype": "text/x-python",
   "name": "python",
   "nbconvert_exporter": "python",
   "pygments_lexer": "ipython3",
   "version": "3.9.16"
  },
  "orig_nbformat": 4
 },
 "nbformat": 4,
 "nbformat_minor": 2
}
